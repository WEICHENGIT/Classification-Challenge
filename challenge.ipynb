{
 "cells": [
  {
   "cell_type": "markdown",
   "metadata": {},
   "source": [
    "# Imports\n",
    "(Based on Python 3.5)"
   ]
  },
  {
   "cell_type": "code",
   "execution_count": 1,
   "metadata": {
    "collapsed": false
   },
   "outputs": [
    {
     "name": "stderr",
     "output_type": "stream",
     "text": [
      "c:\\program files\\python35\\lib\\site-packages\\sklearn\\cross_validation.py:44: DeprecationWarning: This module was deprecated in version 0.18 in favor of the model_selection module into which all the refactored classes and functions are moved. Also note that the interface of the new CV iterators are different from that of this module. This module will be removed in 0.20.\n",
      "  \"This module will be removed in 0.20.\", DeprecationWarning)\n",
      "c:\\program files\\python35\\lib\\site-packages\\sklearn\\grid_search.py:43: DeprecationWarning: This module was deprecated in version 0.18 in favor of the model_selection module into which all the refactored classes and functions are moved. This module will be removed in 0.20.\n",
      "  DeprecationWarning)\n"
     ]
    }
   ],
   "source": [
    "import numpy as np\n",
    "import matplotlib.pyplot as plt\n",
    "import pandas as pd\n",
    "import time\n",
    "from sklearn.svm import SVC\n",
    "from sklearn.decomposition import PCA\n",
    "from sklearn.ensemble import BaggingClassifier, RandomForestClassifier\n",
    "from sklearn.neural_network import MLPClassifier\n",
    "from sklearn.cluster import KMeans\n",
    "from sklearn.preprocessing import StandardScaler\n",
    "from scipy import stats\n",
    "from sklearn.grid_search import RandomizedSearchCV\n",
    "from sklearn.model_selection import GridSearchCV\n",
    "from sklearn.model_selection import cross_val_score\n",
    "from sklearn.ensemble import BaggingClassifier\n",
    "from sklearn.neighbors import NearestNeighbors"
   ]
  },
  {
   "cell_type": "markdown",
   "metadata": {},
   "source": [
    "# 1 Pre-steps"
   ]
  },
  {
   "cell_type": "markdown",
   "metadata": {},
   "source": [
    "## 1.0 Reading data"
   ]
  },
  {
   "cell_type": "code",
   "execution_count": 2,
   "metadata": {
    "collapsed": false
   },
   "outputs": [],
   "source": [
    "# reading data\n",
    "X_train_fname = 'training_templates.csv'\n",
    "y_train_fname = 'training_labels.txt'\n",
    "X_test_fname  = 'testing_templates.csv'\n",
    "X_train = pd.read_csv(X_train_fname, sep=',', header=None).values\n",
    "y_train = np.loadtxt(y_train_fname, dtype=np.int)\n",
    "X_test  = pd.read_csv(X_test_fname,  sep=',', header=None).values\n",
    "\n",
    "[n,p]=X_train.shape"
   ]
  },
  {
   "cell_type": "code",
   "execution_count": 3,
   "metadata": {
    "collapsed": true
   },
   "outputs": [],
   "source": [
    "scaler = StandardScaler()\n",
    "scaler.fit(X_train)\n",
    "X_train = scaler.transform(X_train)\n",
    "X_test = scaler.transform(X_test)\n",
    "# PCA\n",
    "pca = PCA(n_components=128)\n",
    "X_train=pca.fit_transform(X_train)\n",
    "X_test=pca.transform(X_test)"
   ]
  },
  {
   "cell_type": "markdown",
   "metadata": {},
   "source": [
    "## 1.1 Data Standardization"
   ]
  },
  {
   "cell_type": "code",
   "execution_count": 3,
   "metadata": {
    "collapsed": false,
    "scrolled": true
   },
   "outputs": [
    {
     "name": "stdout",
     "output_type": "stream",
     "text": [
      "cross validation score without standardization: 0.91325026653\n",
      "cross validation score with standardization: 0.978299899132\n"
     ]
    }
   ],
   "source": [
    "# Data Standardization\n",
    "\n",
    "# test the role of Standardization\n",
    "clf = SVC(C=1, kernel='rbf')\n",
    "\n",
    "# Prediction \n",
    "ind=np.random.permutation(n)\n",
    "X=X_train[ind][:20000]\n",
    "y=y_train[ind][:20000]\n",
    "print('cross validation score without standardization:',np.mean(cross_val_score(clf, X, y, cv=4)))\n",
    "\n",
    "scaler = StandardScaler()\n",
    "scaler.fit(X_train)\n",
    "X_train = scaler.transform(X_train)\n",
    "X_test = scaler.transform(X_test)\n",
    "\n",
    "X=X_train[ind][:20000]\n",
    "y=y_train[ind][:20000]\n",
    "print('cross validation score with standardization:',np.mean(cross_val_score(clf, X, y, cv=4)))"
   ]
  },
  {
   "cell_type": "markdown",
   "metadata": {},
   "source": [
    "## 1.2 PCA"
   ]
  },
  {
   "cell_type": "code",
   "execution_count": 4,
   "metadata": {
    "collapsed": false
   },
   "outputs": [
    {
     "name": "stdout",
     "output_type": "stream",
     "text": [
      "cross validation score with PCA: 0.978299899132\n"
     ]
    }
   ],
   "source": [
    "# PCA\n",
    "pca = PCA(n_components=128)\n",
    "X_train=pca.fit_transform(X_train)\n",
    "X_test=pca.transform(X_test)\n",
    "\n",
    "X=X_train[ind][:20000]\n",
    "y=y_train[ind][:20000]\n",
    "print('cross validation score with PCA:',np.mean(cross_val_score(clf, X, y, cv=4)))"
   ]
  },
  {
   "cell_type": "code",
   "execution_count": 18,
   "metadata": {
    "collapsed": false
   },
   "outputs": [
    {
     "data": {
      "image/png": "[encoded data removed]",
      "text/plain": [
       "<matplotlib.figure.Figure at 0x1dc03be3a20>"
      ]
     },
     "metadata": {},
     "output_type": "display_data"
    }
   ],
   "source": [
    "# # see the effect of n_components of PCA\n",
    "# score_PCA=list([])\n",
    "# for n_components in range(10,128,10):\n",
    "#     pca = PCA(n_components=n_components)\n",
    "#     X=pca.fit_transform(X_train)\n",
    "#     ind=np.random.permutation(n)\n",
    "#     X=X[ind][:20000]\n",
    "#     y=y_train[ind][:20000]\n",
    "#     clf = SVC(C=1, kernel='rbf')\n",
    "#     score_PCA.append(np.mean(cross_val_score(clf, X, y, cv=4)))\n",
    "#     print('n_components=',n_components,',score=',np.mean(cross_val_score(clf, X, y, cv=4)))\n",
    "# plt.plot(range(10,128,10),score_PCA,'--',marker='o')\n",
    "# plt.title('Score by PCA with different number of components')\n",
    "# plt.xlabel('number of components')\n",
    "# plt.ylabel('score')\n",
    "# plt.grid()\n",
    "# plt.show()"
   ]
  },
  {
   "cell_type": "markdown",
   "metadata": {},
   "source": [
    "## 1.3 Data deduction via KNN"
   ]
  },
  {
   "cell_type": "code",
   "execution_count": 4,
   "metadata": {
    "collapsed": false
   },
   "outputs": [
    {
     "name": "stderr",
     "output_type": "stream",
     "text": [
      "c:\\program files\\python35\\lib\\site-packages\\ipykernel\\__main__.py:4: VisibleDeprecationWarning: using a non-integer number instead of an integer will result in an error in the future\n",
      "c:\\program files\\python35\\lib\\site-packages\\ipykernel\\__main__.py:5: VisibleDeprecationWarning: using a non-integer number instead of an integer will result in an error in the future\n"
     ]
    },
    {
     "name": "stdout",
     "output_type": "stream",
     "text": [
      "we've selected 38943 samples from entire X_train\n"
     ]
    }
   ],
   "source": [
    "# KNN with 10 nearest neighbors\n",
    "\n",
    "neigh = NearestNeighbors(n_neighbors=10)\n",
    "neigh.fit(X_train[:,:p/2])\n",
    "s=neigh.kneighbors(X_test[:,:p/2], return_distance=False)\n",
    "select=list([])\n",
    "for i in s:\n",
    "    for j in i:\n",
    "        select.append(j)\n",
    "select=list(set(select))\n",
    "X_select=X_train[select,:]\n",
    "y_select=y_train[select]\n",
    "\n",
    "print(\"we've selected %d samples from entire X_train\" % X_select.shape[0])"
   ]
  },
  {
   "cell_type": "markdown",
   "metadata": {},
   "source": [
    "## 1.4 Determine the predicted labels"
   ]
  },
  {
   "cell_type": "code",
   "execution_count": 5,
   "metadata": {
    "collapsed": true
   },
   "outputs": [],
   "source": [
    "# performance criteria\n",
    "def compute_pred_score(y_true, y_pred):\n",
    "    y_pred_unq =  np.unique(y_pred)\n",
    "    for i in y_pred_unq:\n",
    "        if((i != -1) & (i!= 1) & (i!= 0) ):\n",
    "            raise ValueError('The predictions can contain only -1, 1, or 0!')\n",
    "    y_comp = y_true * y_pred\n",
    "    score = float(10*np.sum(y_comp == -1) + np.sum(y_comp == 0))\n",
    "    score /= y_comp.shape[0]\n",
    "    return score\n",
    "\n",
    "# determine label for testing sets\n",
    "def determine(x,positive,threshold):\n",
    "    y_pred=np.zeros(len(x))\n",
    "    for i in range(len(y_pred)):\n",
    "        if x[i,0]<threshold:\n",
    "            y_pred[i]=-positive\n",
    "        elif x[i,0]>1-threshold:\n",
    "            y_pred[i]=positive\n",
    "        else:\n",
    "            y_pred[i]=0\n",
    "    return y_pred"
   ]
  },
  {
   "cell_type": "markdown",
   "metadata": {},
   "source": [
    "# 2 Classifiers"
   ]
  },
  {
   "cell_type": "markdown",
   "metadata": {},
   "source": [
    "## 2.1 SVM"
   ]
  },
  {
   "cell_type": "code",
   "execution_count": null,
   "metadata": {
    "collapsed": false,
    "scrolled": false
   },
   "outputs": [],
   "source": [
    "# SVM classification with probability=True\n",
    "clf = SVC(C=1, kernel='rbf', probability=True, cache_size=7000, class_weight='balanced')\n",
    "n,p=X_select.shape\n",
    "ind=np.random.permutation(n)\n",
    "X_train=X_train[ind]\n",
    "y_train=y_train[ind]\n",
    "\n",
    "begin = time.time()\n",
    "clf.fit(X_select[0:20000], y_select[0:20000])\n",
    "cost = time.time() - begin\n",
    "\n",
    "# Prediction\n",
    "y_pred=clf.predict_proba(X_select[20000:])\n",
    "y_pred=determine(y_pred,clf.classes_[0],0.1)\n",
    "# Compute the score\n",
    "score = compute_pred_score ( y_select[20000:] , y_pred ) \n",
    "print ( 'Training score: % s ' % score )\n",
    "print('Training time: % s seconds' % cost)\n"
   ]
  },
  {
   "cell_type": "code",
   "execution_count": 11,
   "metadata": {
    "collapsed": false
   },
   "outputs": [
    {
     "name": "stdout",
     "output_type": "stream",
     "text": [
      "Training score: 0.19168030407010506 \n",
      "Training time: 466.835693359375 seconds\n"
     ]
    }
   ],
   "source": [
    "# SVM classification with probability=False\n",
    "clf = SVC(C=2, kernel='rbf', probability=False, cache_size=7000, class_weight='balanced')\n",
    "n,p=X_select.shape\n",
    "ind=np.random.permutation(n)\n",
    "X_select=X_select[ind]\n",
    "y_select=y_select[ind]\n",
    "\n",
    "begin = time.time()\n",
    "clf.fit(X_select[0:20000], y_select[0:20000])\n",
    "# print('Best estimator:',clf.best_estimator_)\n",
    "cost = time.time() - begin\n",
    "\n",
    "# Prediction\n",
    "y_pred=clf.predict(X_select[20000:])\n",
    "dist=clf.decision_function(X_select[20000:])\n",
    "y_pred[dist<0.95*min(dist)+0.05*max(dist)]=0\n",
    "# Compute the score\n",
    "score = compute_pred_score ( y_select[20000:] , y_pred ) \n",
    "print ( 'Training score: % s ' % score )\n",
    "print ('Training time: % s seconds' % cost)"
   ]
  },
  {
   "cell_type": "markdown",
   "metadata": {},
   "source": [
    "## 2.2 Random forest"
   ]
  },
  {
   "cell_type": "code",
   "execution_count": 9,
   "metadata": {
    "collapsed": false,
    "scrolled": false
   },
   "outputs": [
    {
     "name": "stdout",
     "output_type": "stream",
     "text": [
      "Training score: 0.9289975188724067 \n",
      "Training time: 89.1927399635315 seconds\n"
     ]
    }
   ],
   "source": [
    "# Random Forest\n",
    "clf = RandomForestClassifier(n_estimators=50)\n",
    "\n",
    "# clf = RandomizedSearchCV(clf, param_distributions={\n",
    "#     'max_depth': stats.uniform(1,30),\n",
    "#     'max_features':stats.uniform(0.5,1)})\n",
    "\n",
    "n,p=X_select.shape\n",
    "ind=np.random.permutation(n)\n",
    "X_select=X_select[ind]\n",
    "y_select=y_select[ind]\n",
    "begin = time.time()\n",
    "clf.fit(X_select[:20000], y_select[:20000])\n",
    "# print(clf.best_estimator_)\n",
    "cost = time.time() - begin\n",
    "\n",
    "# Prediction \n",
    "y_pred=clf.predict_proba(X_select[20000:])\n",
    "y_pred=determine(y_pred,clf.classes_[0],0.1)\n",
    "# Compute the score\n",
    "score = compute_pred_score ( y_select[20000:] , y_pred ) \n",
    "print ( 'Training score: % s ' % score )\n",
    "print('Training time: % s seconds' % cost)"
   ]
  },
  {
   "cell_type": "markdown",
   "metadata": {},
   "source": [
    "## 2.3 MLP"
   ]
  },
  {
   "cell_type": "markdown",
   "metadata": {},
   "source": [
    "## 2.3.1 MLP Classifier Parameter optimisation"
   ]
  },
  {
   "cell_type": "code",
   "execution_count": 20,
   "metadata": {
    "collapsed": false
   },
   "outputs": [
    {
     "data": {
      "text/plain": [
       "MLPClassifier(activation='relu', alpha=0.012337222794656134,\n",
       "       batch_size='auto', beta_1=0.9, beta_2=0.999, early_stopping=True,\n",
       "       epsilon=1e-08, hidden_layer_sizes=(260,), learning_rate='adaptive',\n",
       "       learning_rate_init=0.00036445635408383824, max_iter=200,\n",
       "       momentum=0.9, nesterovs_momentum=True, power_t=0.5, random_state=1,\n",
       "       shuffle=True, solver='adam', tol=0.0001, validation_fraction=0.3,\n",
       "       verbose=False, warm_start=False)"
      ]
     },
     "execution_count": 20,
     "metadata": {},
     "output_type": "execute_result"
    }
   ],
   "source": [
    "# Optimise parameters\n",
    "clf = MLPClassifier(solver='adam',validation_fraction=0.3)\n",
    "\n",
    "clf = RandomizedSearchCV(clf, param_distributions={\n",
    "        'alpha': stats.uniform(0.005,0.01),\n",
    "        'learning_rate_init': stats.uniform(0.0001,0.0005),\n",
    "        'activation':['identity', 'logistic', 'tanh', 'relu'],\n",
    "        'hidden_layer_sizes':[(200,),(220,),(240,),(260,),(280,),(300,)]})\n",
    "clf.fit(X_select, y_select)\n",
    "print(clf.best_estimator_)"
   ]
  },
  {
   "cell_type": "markdown",
   "metadata": {},
   "source": [
    "## 2.3.2 MLP Classifier cross validation"
   ]
  },
  {
   "cell_type": "code",
   "execution_count": 14,
   "metadata": {
    "collapsed": false,
    "scrolled": true
   },
   "outputs": [
    {
     "name": "stdout",
     "output_type": "stream",
     "text": [
      "Training score: 0.14312870401431288 \n",
      "Training time: 520.441855430603 seconds\n"
     ]
    }
   ],
   "source": [
    "# Multi-layer Perceptron Classifier\n",
    "clf=MLPClassifier(activation='relu', alpha=0.012337222794656134,\n",
    "       batch_size='auto', beta_1=0.9, beta_2=0.999, early_stopping=True,\n",
    "       epsilon=1e-08, hidden_layer_sizes=(260,), learning_rate='adaptive',\n",
    "       learning_rate_init=0.00036445635408383824, max_iter=500,\n",
    "       momentum=0.9, nesterovs_momentum=True, power_t=0.5, random_state=1,\n",
    "       shuffle=True, solver='adam', tol=0.0001, validation_fraction=0.3,\n",
    "       verbose=False, warm_start=False)\n",
    "clf=BaggingClassifier(base_estimator=clf, n_estimators=10)\n",
    "\n",
    "n,p=X_select.shape\n",
    "scaler.fit(X_select)\n",
    "X_select = scaler.transform(X_select)\n",
    "X_test = scaler.transform(X_test)\n",
    "ind=np.random.permutation(n)\n",
    "X_select=X_select[ind]\n",
    "y_select=y_select[ind]\n",
    "begin = time.time()\n",
    "\n",
    "clf.fit(X_select[:30000], y_select[:30000])\n",
    "cost = time.time() - begin\n",
    "\n",
    "# Prediction \n",
    "y_pred=clf.predict_proba(X_select[30000:])\n",
    "y_pred=determine(y_pred,clf.classes_[0],0.1)\n",
    "# Compute the score\n",
    "score = compute_pred_score ( y_select[30000:] , y_pred ) \n",
    "print ( 'Training score: % s ' % score )\n",
    "print('Training time: % s seconds' % cost)"
   ]
  },
  {
   "cell_type": "markdown",
   "metadata": {},
   "source": [
    "## 2.3.3 Boosting recursively"
   ]
  },
  {
   "cell_type": "code",
   "execution_count": 15,
   "metadata": {
    "collapsed": false,
    "scrolled": false
   },
   "outputs": [
    {
     "name": "stdout",
     "output_type": "stream",
     "text": [
      "Exactly estimate 89.08 % of test dataset.\n",
      "Exactly estimate 94.39 % of test dataset.\n",
      "Exactly estimate 95.39 % of test dataset.\n",
      "Exactly estimate 95.88 % of test dataset.\n",
      "Exactly estimate 95.99 % of test dataset.\n",
      "Exactly estimate 96.05 % of test dataset.\n",
      "Exactly estimate 95.96 % of test dataset.\n"
     ]
    }
   ],
   "source": [
    "# Boosting\n",
    "X_train_=X_select\n",
    "y_train_=y_select\n",
    "zeros1=0\n",
    "zeros2=1\n",
    "while zeros2>zeros1:\n",
    "    y_pred_=y_pred\n",
    "    zeros1=zeros2\n",
    "    clf.fit(X_train_, y_train_)\n",
    "    y_pred=clf.predict_proba(X_test)\n",
    "    y_pred=determine(y_pred,clf.classes_[0],0.1)\n",
    "    zeros2=y_pred[y_pred!=0].shape[0]\n",
    "    X_train_=np.r_[X_select, X_test[y_pred!=0]]\n",
    "    y_train_=np.r_[y_select, y_pred[y_pred!=0]]\n",
    "    print('Exactly estimate %4.2f' %(zeros2/X_test.shape[0]*100), '% of test dataset.')\n",
    "    np.savetxt('y_pred.txt', y_pred_, fmt='%d')"
   ]
  },
  {
   "cell_type": "code",
   "execution_count": 22,
   "metadata": {
    "collapsed": false
   },
   "outputs": [
    {
     "name": "stdout",
     "output_type": "stream",
     "text": [
      "(344,)\n",
      "(225,)\n"
     ]
    }
   ],
   "source": [
    "y1 = np.loadtxt('y_pred 0.128531073446.txt', dtype=np.int)\n",
    "y2 = np.loadtxt('y_pred 0.126883239171.txt', dtype=np.int)\n",
    "print(y1[y1==0].shape)\n",
    "y1[y1==0]=y2[y1==0]\n",
    "print(y1[y1==0].shape)\n",
    "np.savetxt('y111.txt', y1, fmt='%d')"
   ]
  }
 ],
 "metadata": {
  "kernelspec": {
   "display_name": "Python 3",
   "language": "python",
   "name": "python3"
  },
  "language_info": {
   "codemirror_mode": {
    "name": "ipython",
    "version": 3
   },
   "file_extension": ".py",
   "mimetype": "text/x-python",
   "name": "python",
   "nbconvert_exporter": "python",
   "pygments_lexer": "ipython3",
   "version": "3.5.2"
  }
 },
 "nbformat": 4,
 "nbformat_minor": 0
}
